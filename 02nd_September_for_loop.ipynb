{
 "cells": [
  {
   "cell_type": "code",
   "execution_count": null,
   "id": "ac013829-60ea-441a-a49b-68eec9fbd084",
   "metadata": {},
   "outputs": [],
   "source": [
    "#1) Write a Python program to print the numbers from 1 to 10 using a `for` loop\n",
    "for i in range(1,11):\n",
    "    print(i)"
   ]
  },
  {
   "cell_type": "code",
   "execution_count": null,
   "id": "440ffd89-2451-4c90-9066-7a602b1e77aa",
   "metadata": {},
   "outputs": [],
   "source": []
  },
  {
   "cell_type": "code",
   "execution_count": null,
   "id": "4885e05e-6421-4960-b531-488dd34267ad",
   "metadata": {},
   "outputs": [],
   "source": [
    "#2) Create a program that calculates the sum of all numbers in a list using a `for` loop\n",
    "my_num = [2,6,4,77,44,35,29] \n",
    "\n",
    "sum_of_num = 0 \n",
    "\n",
    "for i in my_num:\n",
    "    sum_of_num += i\n",
    "print(sum_of_num)"
   ]
  },
  {
   "cell_type": "code",
   "execution_count": null,
   "id": "9fe3df12-3255-41a2-a64a-04a2c133b4bc",
   "metadata": {},
   "outputs": [],
   "source": []
  },
  {
   "cell_type": "code",
   "execution_count": null,
   "id": "9a4b26bf-f147-4ba9-8397-ef7028646ca0",
   "metadata": {},
   "outputs": [],
   "source": [
    "#3) Write a program to print the characters of a string in reverse order using a `for` loop\n",
    "my_string = input(\"Enter any string:\") \n",
    "\n",
    "for char in reversed(my_string):\n",
    "    print(char, end='')"
   ]
  },
  {
   "cell_type": "code",
   "execution_count": null,
   "id": "a2ec4342-6b34-4e0f-bab4-df63dfb9b67e",
   "metadata": {},
   "outputs": [],
   "source": []
  },
  {
   "cell_type": "code",
   "execution_count": null,
   "id": "07889339-7a16-4e82-958c-b1d719ea65b9",
   "metadata": {},
   "outputs": [],
   "source": [
    "#4) Develop a program that finds the factorial of a given number using a `for` loop\n",
    "n = 5\n",
    "fact_of = 1\n",
    "for i in range(1, n+1):\n",
    "    fact_of *= i\n",
    "    \n",
    "print(fact_of)"
   ]
  },
  {
   "cell_type": "code",
   "execution_count": null,
   "id": "dd8ee4e4-eff0-423d-a1d3-0811f3e02807",
   "metadata": {},
   "outputs": [],
   "source": []
  },
  {
   "cell_type": "code",
   "execution_count": null,
   "id": "a28d6c31-0dc3-432d-bac0-085532afecea",
   "metadata": {},
   "outputs": [],
   "source": [
    "#5) Create a program to print the multiplication table of a given number using a `for` loop\n",
    "n = 4 \n",
    "\n",
    "for i in range(1,11):\n",
    "    table = n*i\n",
    "    print(n, \"×\", i, \"=\", table)\n",
    "    i += 1"
   ]
  },
  {
   "cell_type": "code",
   "execution_count": null,
   "id": "4d90946f-c1b3-49d0-8277-5d0d0b384dc6",
   "metadata": {},
   "outputs": [],
   "source": []
  },
  {
   "cell_type": "code",
   "execution_count": null,
   "id": "2be103f4-1916-45f6-bdda-b0ee5047254b",
   "metadata": {},
   "outputs": [],
   "source": [
    "#6) Write a program that counts the number of even and odd numbers in a list using a `for` loop\n",
    "my_list = [1,2,3,4,5, 6,7,8,9]\n",
    "even_count = 0\n",
    "odd_count = 0\n",
    "for i in my_list:\n",
    "    if i%2 == 0:\n",
    "        even_count +=1\n",
    "    else:\n",
    "        odd_count +=1\n",
    "print(\"Number of even numbers in list is\", even_count)\n",
    "print(\"Number of odd numbers in list is\", odd_count)"
   ]
  },
  {
   "cell_type": "code",
   "execution_count": null,
   "id": "c6eb665b-4a2f-4247-b7d6-eedec39fd378",
   "metadata": {},
   "outputs": [],
   "source": []
  },
  {
   "cell_type": "code",
   "execution_count": null,
   "id": "acb3beaf-0f73-472d-bdb1-69e823e1cf4c",
   "metadata": {},
   "outputs": [],
   "source": [
    "#7) Develop a program that prints the squares of numbers from 1 to 5 using a `for` loop\n",
    "for i in range(1,6):\n",
    "    square_of_num = i**2\n",
    "    print(\"Square of number\", i, \"is:\", square_of_num)"
   ]
  },
  {
   "cell_type": "code",
   "execution_count": null,
   "id": "5874010a-3796-4310-b6ee-0dbfe624f75a",
   "metadata": {},
   "outputs": [],
   "source": []
  },
  {
   "cell_type": "code",
   "execution_count": null,
   "id": "5fb5699b-a081-4edc-b14b-2329188bea81",
   "metadata": {},
   "outputs": [],
   "source": [
    "#8) Create a program to find the length of a string without using the `len()` function\n",
    "my_string = input(\"Enter any string:\")\n",
    "count = 0\n",
    "for i in my_string:\n",
    "    count += 1\n",
    "print(count)"
   ]
  },
  {
   "cell_type": "code",
   "execution_count": null,
   "id": "c5fb27db-4193-4ca1-8ac5-d13b28ba8026",
   "metadata": {},
   "outputs": [],
   "source": []
  },
  {
   "cell_type": "code",
   "execution_count": null,
   "id": "e1c649e4-7b88-41a1-ba85-228be3e09b8e",
   "metadata": {},
   "outputs": [],
   "source": [
    "#9) Write a program that calculates the average of a list of numbers using a `for` loop\n",
    "my_list = [1,2,3,4,5]\n",
    "sum_of_list = 0\n",
    "len_list = len(my_list) \n",
    "\n",
    "for i in my_list:\n",
    "    sum_of_list += i\n",
    "average_of_list = sum_of_list / len_list \n",
    "\n",
    "print(\"Average of list of numbers is :\", average_of_list)"
   ]
  },
  {
   "cell_type": "code",
   "execution_count": null,
   "id": "0eafb1d2-d905-41f6-a774-d62895e8f83c",
   "metadata": {},
   "outputs": [],
   "source": []
  },
  {
   "cell_type": "code",
   "execution_count": null,
   "id": "f5dfe057-04dc-4ec8-b1b4-8271c72ff7d7",
   "metadata": {},
   "outputs": [],
   "source": [
    "#10) Develop a program that prints the first `n` Fibonacci numbers using a `for` loop\n",
    "n = int(input(\"Enter any number:\")) \n",
    "\n",
    "fibonacci_list = [0, 1] \n",
    "\n",
    "for i in range(2, n):\n",
    "    next_fibonacci = fibonacci_list[-1] + fibonacci_list[-2]\n",
    "    fibonacci_list.append(next_fibonacci) \n",
    "\n",
    "print(fibonacci_list)"
   ]
  },
  {
   "cell_type": "code",
   "execution_count": null,
   "id": "e41a456a-f6d6-4985-9f16-89c099779d9e",
   "metadata": {},
   "outputs": [],
   "source": []
  },
  {
   "cell_type": "code",
   "execution_count": null,
   "id": "d5bb6a90-dc37-4ed4-8813-fc82db50ddd3",
   "metadata": {},
   "outputs": [],
   "source": [
    "#11) Write a program to check if a given list contains any duplicates using a `for` loop\n",
    "def has_duplicates(lst):\n",
    "    for i in range(len(lst)):\n",
    "        for j in range(i + 1, len(lst)):\n",
    "            if lst[i] == lst[j]:\n",
    "                return True\n",
    "    return False\n",
    "\n",
    "my_list = [1, 2, 3, 4, 5, 2] \n",
    "\n",
    "if has_duplicates(my_list):\n",
    "    print(\"The list contains duplicates.\")\n",
    "else:\n",
    "    print(\"The list does not contain duplicates.\")"
   ]
  },
  {
   "cell_type": "code",
   "execution_count": null,
   "id": "cdd8d356-316b-4694-a229-54d824f84d04",
   "metadata": {},
   "outputs": [],
   "source": []
  },
  {
   "cell_type": "code",
   "execution_count": null,
   "id": "2eeff0b8-99ed-4b87-9d40-91ed5dca41f4",
   "metadata": {},
   "outputs": [],
   "source": [
    "#12) Create a program that prints the prime numbers in a given range using a `for` loop\n",
    "start = int(input(\"Enter any number:\"))\n",
    "end = int(input(\"Enter any number:\"))\n",
    "list1 = []\n",
    "for num in range(start, end + 1):\n",
    "    if num > 1:\n",
    "        is_prime = True\n",
    "        for i in range(2, int(num**0.5) + 1):\n",
    "            if num % i == 0:\n",
    "                is_prime = False\n",
    "                break\n",
    "        if is_prime:\n",
    "            list1.append(num)\n",
    "print(list1)"
   ]
  },
  {
   "cell_type": "code",
   "execution_count": null,
   "id": "4b123b3d-428c-45e1-8a4b-6cb6bc68a807",
   "metadata": {},
   "outputs": [],
   "source": []
  },
  {
   "cell_type": "code",
   "execution_count": null,
   "id": "cdbeced2-a4c8-45ae-98c6-9384abc31c75",
   "metadata": {},
   "outputs": [],
   "source": [
    "#13) Develop a program that counts the number of vowels in a string using a `for` loop\n",
    "my_string = input(\"Enter any string:\") \n",
    "\n",
    "vowel_count = 0 \n",
    "\n",
    "for i in my_string:\n",
    "    if i.lower() in 'aeiou':\n",
    "        vowel_count +=1\n",
    "print(\"Number of vowels in an entered string is\", vowel_count)"
   ]
  },
  {
   "cell_type": "code",
   "execution_count": null,
   "id": "91a7eff4-8757-4581-8805-aa18186bde05",
   "metadata": {},
   "outputs": [],
   "source": []
  },
  {
   "cell_type": "code",
   "execution_count": null,
   "id": "fe773020-14e8-4cbd-8b82-58ca44a35ec1",
   "metadata": {},
   "outputs": [],
   "source": [
    "#14) Write a program to find the maximum element in a 2D list using a nested `for` loop\n",
    "my_list = [[3,4,5],[6,2,5],[8,9,1]] \n",
    "\n",
    "max_element = my_list[0][0] \n",
    "\n",
    "for i in my_list:\n",
    "    for j in i:\n",
    "        if j > max_element:\n",
    "            max_element = j\n",
    "print(\"The maximum element in a 2D list is :\",max_element)"
   ]
  },
  {
   "cell_type": "code",
   "execution_count": null,
   "id": "5583a110-7dc0-4e38-aebf-6ac5a7e2fc8b",
   "metadata": {},
   "outputs": [],
   "source": []
  },
  {
   "cell_type": "code",
   "execution_count": null,
   "id": "9ebde822-a692-4b8c-9033-e040d25007c0",
   "metadata": {},
   "outputs": [],
   "source": [
    "#15) Create a program that removes all occurrences of a specific element from a list using a `for` loop\n",
    "my_list = [1,2,3,4,5,6,7,8,9] \n",
    "\n",
    "element_to_remove = 5 \n",
    "\n",
    "for i in my_list:\n",
    "    if i == element_to_remove:\n",
    "        my_list.remove(element_to_remove)\n",
    "print(my_list)"
   ]
  },
  {
   "cell_type": "code",
   "execution_count": null,
   "id": "a25cab7e-ad0a-4aed-b55d-5c0dc915ec9c",
   "metadata": {},
   "outputs": [],
   "source": []
  },
  {
   "cell_type": "code",
   "execution_count": null,
   "id": "4f67f385-899c-42e7-bf8b-eb801a6325db",
   "metadata": {},
   "outputs": [],
   "source": [
    "#16) Develop a program that generates a multiplication table for numbers from 1 to 5 using a nested `for` loop\n",
    "start_range = 1\n",
    "end_range = 5 \n",
    "\n",
    "for i in range(start_range, end_range + 1):\n",
    "    print(f\"\\nMultiplication table for {i}:\")\n",
    "    for j in range(1, 11):\n",
    "        result = i * j\n",
    "        print(i, \"x\", j, \"=\", result) "
   ]
  },
  {
   "cell_type": "code",
   "execution_count": null,
   "id": "80810265-69c9-4ce8-9445-dd84ad8a9b38",
   "metadata": {},
   "outputs": [],
   "source": []
  },
  {
   "cell_type": "code",
   "execution_count": null,
   "id": "4f46c463-6ed4-4480-8456-dcfdeb9c308b",
   "metadata": {},
   "outputs": [],
   "source": [
    "#17) Write a program that converts a list of Fahrenheit temperatures to Celsius using a `for` loop\n",
    "fahrenheit_temps = [32, 68, 98.6, 212, 100, 80, 20, 0] \n",
    "\n",
    "celsius_temp = [] \n",
    "\n",
    "for temp in fahrenheit_temps:\n",
    "    result = (temp - 32) * 5/9\n",
    "    celsius_temp.append(result) \n",
    "\n",
    "print(\"Temperature in Fahrenheit:\", fahrenheit_temps)\n",
    "print(\"Temperature in Celsius:\", celsius_temp)"
   ]
  },
  {
   "cell_type": "code",
   "execution_count": null,
   "id": "3156510e-c174-445c-b8bf-71a004b88c41",
   "metadata": {},
   "outputs": [],
   "source": []
  },
  {
   "cell_type": "code",
   "execution_count": null,
   "id": "a496f669-5f8a-43d1-917c-e1c83fc55f81",
   "metadata": {},
   "outputs": [],
   "source": [
    "#18) Create a program to print the common elements from two lists using a `for` loop\n",
    "list1 = [1,2,3,4,5,6,7,8,9]\n",
    "list2 = [2,3,4,5,66,38,75]\n",
    "common_element = [] \n",
    "\n",
    "for i in list1:\n",
    "    for j in list2:\n",
    "        if i == j:\n",
    "            common_element.append(j)\n",
    "print(\"Common elements in both list:\",common_element)"
   ]
  },
  {
   "cell_type": "code",
   "execution_count": null,
   "id": "f65f2bca-4810-4e48-9f24-74e89608125e",
   "metadata": {},
   "outputs": [],
   "source": []
  },
  {
   "cell_type": "code",
   "execution_count": null,
   "id": "b6feef40-d678-48df-8d29-db9e2f1e8aef",
   "metadata": {},
   "outputs": [],
   "source": [
    "#19) Develop a program that prints the pattern of right-angled triangles using a `for` loop. Use ‘*’ to draw the pattern\n",
    "\n",
    "rows = int(input(\"Enter the number of rows: \")) \n",
    "\n",
    "for i in range(1, rows + 1):\n",
    "    for j in range(1, i + 1):\n",
    "        print('*', end=' ')\n",
    "    print()"
   ]
  },
  {
   "cell_type": "code",
   "execution_count": null,
   "id": "c27c55f9-ccb0-4481-ab0a-10f719c2c975",
   "metadata": {},
   "outputs": [],
   "source": []
  },
  {
   "cell_type": "code",
   "execution_count": null,
   "id": "310e5b95-9884-46c5-bae5-0ea27deac531",
   "metadata": {},
   "outputs": [],
   "source": [
    "#20) Write a program to find the greatest common divisor (GCD) of two numbers using a `for` loop\n",
    "def find_gcd(a, b):\n",
    "    if a < b:\n",
    "        a, b = b, a\n",
    "        \n",
    "    gcd = b\n",
    "\n",
    "    for i in range(1, b + 1):\n",
    "        if a % i == 0 and b % i == 0:\n",
    "            gcd = i\n",
    "\n",
    "    return gcd\n",
    "\n",
    "num1 = int(input(\"Enter any number:\"))\n",
    "num2 = int(input(\"Enter any number:\"))\n",
    "result = find_gcd(num1, num2)\n",
    "print(f\"The GCD of {num1} and {num2} is: {result}\")"
   ]
  },
  {
   "cell_type": "code",
   "execution_count": null,
   "id": "e5b45d44-8294-4f6c-9265-1c572a369e40",
   "metadata": {},
   "outputs": [],
   "source": []
  },
  {
   "cell_type": "code",
   "execution_count": null,
   "id": "ede34b16-2d66-463c-a191-bc22aa977963",
   "metadata": {},
   "outputs": [],
   "source": [
    "#21) Create a program that calculates the sum of the digits of numbers in a list using a list comprehension\n",
    "def sum_of_digit(number):\n",
    "    return sum(int(digit) for digit in str(number) if digit.isdigit())\n",
    "\n",
    "numbers = [23, 45, 67]\n",
    "\n",
    "sums_of_digit = [sum_of_digit(num) for num in numbers]\n",
    "print(sums_of_digit)"
   ]
  },
  {
   "cell_type": "code",
   "execution_count": null,
   "id": "80916c49-2876-44a1-a799-8230306a517f",
   "metadata": {},
   "outputs": [],
   "source": []
  },
  {
   "cell_type": "code",
   "execution_count": null,
   "id": "98664eb3-b7d9-42d0-89a5-e49e230603d5",
   "metadata": {},
   "outputs": [],
   "source": [
    "#22) Write a program to find the prime factors of a given number using a `for` loop and list comprehension\n",
    "def prime_factors(n):\n",
    "    factors = [i for i in range(2, n + 1) if n % i == 0 and all(i % j != 0 for j in range(2, int(i**0.5) + 1))]\n",
    "    return factors\n",
    "\n",
    "number = int(input(\"Enter a number: \"))\n",
    "\n",
    "result = prime_factors(number)\n",
    "print(f\"Prime factors of {number}: {result}\")"
   ]
  },
  {
   "cell_type": "code",
   "execution_count": null,
   "id": "8939560d-b23f-4a6b-92b7-6af983b057f2",
   "metadata": {},
   "outputs": [],
   "source": []
  },
  {
   "cell_type": "code",
   "execution_count": null,
   "id": "8c59d5db-9651-4dac-86eb-e863f5bab380",
   "metadata": {},
   "outputs": [],
   "source": [
    "#23) Develop a program that extracts unique elements from a list and stores them in a new list using a list comprehension\n",
    "def extract_unique_elements(input_list):\n",
    "    return list(set(element for element in input_list))\n",
    "\n",
    "original_list = [1, 2, 2, 8, 9, 3, 4, 4, 5, 6, 6, 7]\n",
    "\n",
    "unique_elements = extract_unique_elements(original_list)\n",
    "\n",
    "print(\"Original List:\", original_list)\n",
    "print(\"Unique Elements:\", unique_elements)"
   ]
  },
  {
   "cell_type": "code",
   "execution_count": null,
   "id": "48cf4016-b7b5-45fe-9abb-9c8af097caa3",
   "metadata": {},
   "outputs": [],
   "source": []
  },
  {
   "cell_type": "code",
   "execution_count": null,
   "id": "ad7c985c-7fff-4412-b41f-e51863f81d07",
   "metadata": {},
   "outputs": [],
   "source": [
    "#24) Create a program that generates a list of all palindromic numbers up to a specified limit using a list comprehension\n",
    "def is_palindromic(number):\n",
    "    return str(number) == str(number)[::-1]\n",
    "\n",
    "def generate_palindromic_numbers(limit):\n",
    "    return [num for num in range(limit + 1) if is_palindromic(num)]\n",
    "\n",
    "limit = 98\n",
    "palindromic_numbers = generate_palindromic_numbers(limit)\n",
    "\n",
    "print(f\"Palindromic numbers up to {limit}: {palindromic_numbers}\")"
   ]
  },
  {
   "cell_type": "code",
   "execution_count": null,
   "id": "6bc254be-521b-4602-ac97-6fd3fd4a65b7",
   "metadata": {},
   "outputs": [],
   "source": []
  },
  {
   "cell_type": "code",
   "execution_count": null,
   "id": "7622952b-5433-4d42-8d68-9dcfb58c0798",
   "metadata": {},
   "outputs": [],
   "source": [
    "#25) Write a program to flatten a nested list using list comprehension\n",
    "def flatten_nested_list(nested_list):\n",
    "    return [item for sublist in nested_list for item in (flatten_nested_list(sublist) if isinstance(sublist, list) else [sublist])]\n",
    "\n",
    "# Example nested list\n",
    "nested_list = [1, [2, 3, [4, 5]], 6, [7, [8, 9]]]\n",
    "\n",
    "# Flatten the nested list using the flatten_nested_list function\n",
    "flattened_list = flatten_nested_list(nested_list)\n",
    "\n",
    "# Print the result\n",
    "print(\"Nested List:\", nested_list)\n",
    "print(\"Flattened List:\", flattened_list)"
   ]
  },
  {
   "cell_type": "code",
   "execution_count": null,
   "id": "df96deec-8777-4282-8787-4c8d8919b734",
   "metadata": {},
   "outputs": [],
   "source": []
  },
  {
   "cell_type": "code",
   "execution_count": null,
   "id": "ac0b3d4d-4512-481a-9036-9b57a9f39229",
   "metadata": {},
   "outputs": [],
   "source": [
    "#26) Develop a program that computes the sum of even and odd numbers in a list separately using list comprehension\n",
    "numbers = [1, 2, 3, 4, 5, 6, 7, 8, 9]\n",
    "\n",
    "sum_even = sum(x for x in numbers if x % 2 == 0)\n",
    "sum_odd = sum(x for x in numbers if x % 2 != 0)\n",
    "\n",
    "print(\"List:\", numbers)\n",
    "print(\"Sum of Even Numbers:\", sum_even)\n",
    "print(\"Sum of Odd Numbers:\", sum_odd)"
   ]
  },
  {
   "cell_type": "code",
   "execution_count": null,
   "id": "9fc8521a-cc2b-4560-9cb9-5fb8d3668d86",
   "metadata": {},
   "outputs": [],
   "source": []
  },
  {
   "cell_type": "code",
   "execution_count": null,
   "id": "da79327d-3a6c-41ad-bd6e-51f20938fe4a",
   "metadata": {},
   "outputs": [],
   "source": [
    "#27) Create a program that generates a list of squares of odd numbers between 1 and 10 using list comprehension\n",
    "\n",
    "squares_of_odd_numbers = [x**2 for x in range(1, 11) if x % 2 != 0]\n",
    "\n",
    "print(\"Squares of Odd Numbers between 1 and 10:\", squares_of_odd_numbers)"
   ]
  },
  {
   "cell_type": "code",
   "execution_count": null,
   "id": "09878553-da47-4e02-a70c-298a4d4b55e6",
   "metadata": {},
   "outputs": [],
   "source": []
  },
  {
   "cell_type": "code",
   "execution_count": null,
   "id": "c832c818-9ed3-4c3f-bf67-335ed1dc65e0",
   "metadata": {},
   "outputs": [],
   "source": [
    "#28) Write a program that combines two lists into a dictionary using list comprehension\n",
    "\n",
    "keys = ['a', 'b', 'c']\n",
    "values = [1, 2, 3]\n",
    "\n",
    "combined_dict = {k: v for k, v in zip(keys, values)}\n",
    "\n",
    "print(\"Combined Dictionary:\", combined_dict)"
   ]
  },
  {
   "cell_type": "code",
   "execution_count": null,
   "id": "1b1a73ea-83d2-4e6a-9d93-23e3f7c2a4aa",
   "metadata": {},
   "outputs": [],
   "source": []
  },
  {
   "cell_type": "code",
   "execution_count": null,
   "id": "98d8bd7a-5a92-4752-8191-eff973ad50c8",
   "metadata": {},
   "outputs": [],
   "source": [
    "#29) Develop a program that extracts the vowels from a string and stores them in a list using list comprehension\n",
    "\n",
    "def extract_vowels(input_string):\n",
    "    vowels = ['a', 'e', 'i', 'o', 'u']\n",
    "    return [char for char in input_string.lower() if char in vowels]\n",
    "\n",
    "input_string = \"Hello, World!\"\n",
    "\n",
    "vowel_list = extract_vowels(input_string)\n",
    "\n",
    "print(\"Original String:\", input_string)\n",
    "print(\"Vowels:\", vowel_list)"
   ]
  },
  {
   "cell_type": "code",
   "execution_count": null,
   "id": "1261c94e-2778-429a-9c8a-0ec945072990",
   "metadata": {},
   "outputs": [],
   "source": []
  },
  {
   "cell_type": "code",
   "execution_count": null,
   "id": "1cf4facb-86b0-4338-a88a-fa4507ce16f4",
   "metadata": {},
   "outputs": [],
   "source": [
    "#30) Create a program that removes all non-numeric characters from a list of strings using list comprehension\n",
    "\n",
    "def remove_non_numeric(input_strings):\n",
    "    return [''.join(char for char in string if char.isdigit()) for string in input_strings]\n",
    "\n",
    "strings_with_non_numeric = [\"abc123\", \"456def\", \"789ghi\", \"jkl!@#\"]\n",
    "\n",
    "numeric_strings = remove_non_numeric(strings_with_non_numeric)\n",
    "\n",
    "print(\"Original List:\", strings_with_non_numeric)\n",
    "print(\"Numeric Strings:\", numeric_strings)"
   ]
  },
  {
   "cell_type": "code",
   "execution_count": null,
   "id": "1e53d277-d75c-4126-a041-22b8509c8f83",
   "metadata": {},
   "outputs": [],
   "source": []
  },
  {
   "cell_type": "code",
   "execution_count": null,
   "id": "0e0a258c-9fbf-42fd-859b-c712ce2f3f9e",
   "metadata": {},
   "outputs": [],
   "source": [
    "# 31) Write a program to generate a list of prime numbers using the Sieve of Eratosthenes algorithm and list comprehension\n",
    "\n",
    "def sieve_of_eratosthenes(number):\n",
    "    is_prime = [True] * (number + 1)\n",
    "    \n",
    "    is_prime[0] = is_prime[1] = False\n",
    "    \n",
    "    for i in range(2, int(number**0.5) + 1):\n",
    "        if is_prime[i]:\n",
    "            for j in range(i * i, number + 1, i):\n",
    "                is_prime[j] = False\n",
    "    \n",
    "    primes = [num for num in range(2, number + 1) if is_prime[num]]\n",
    "    \n",
    "    return primes\n",
    "\n",
    "number = 50\n",
    "result = sieve_of_eratosthenes(number)\n",
    "print(\"Prime numbers up to\", number, \"are:\", result)"
   ]
  },
  {
   "cell_type": "code",
   "execution_count": null,
   "id": "2fb261e0-85cf-44ad-ab78-f65e1731e3ba",
   "metadata": {},
   "outputs": [],
   "source": []
  },
  {
   "cell_type": "code",
   "execution_count": null,
   "id": "03d01f0d-07e6-4073-96a6-e6f7a498d358",
   "metadata": {},
   "outputs": [],
   "source": [
    "# 32) Create a program that generates a list of all Pythagorean triplets up to a specified limit using list comprehension\n",
    "def generate_pythagorean_triplets(limit):\n",
    "    triplets = [(a, b, c) for a in range(1, limit + 1) for b in range(a, limit + 1) for c in range(b, limit + 1) if a**2 + b**2 == c**2]\n",
    "    \n",
    "    unique_triplets = set(tuple(sorted(triplet)) for triplet in triplets)\n",
    "    \n",
    "    return list(unique_triplets)\n",
    "\n",
    "limit = 20\n",
    "result = generate_pythagorean_triplets(limit)\n",
    "print(\"Pythagorean triplets up to\", limit, \"are:\", result)"
   ]
  },
  {
   "cell_type": "code",
   "execution_count": null,
   "id": "03f30e18-f457-4bd8-ab51-c5c801b31dbd",
   "metadata": {},
   "outputs": [],
   "source": []
  },
  {
   "cell_type": "code",
   "execution_count": null,
   "id": "0679dffa-fc04-42e6-9ad8-62c93bd18017",
   "metadata": {},
   "outputs": [],
   "source": [
    "# 33) Develop a program that generates a list of all possible combinations of two lists using list comprehension\n",
    "\n",
    "list1 = [1, 2, 3]\n",
    "list2 = ['a', 'b', 'c']\n",
    "\n",
    "combinations = [(x, y) for x in list1 for y in list2]\n",
    "\n",
    "print(\"All possible combinations:\")\n",
    "for combination in combinations:\n",
    "    print(combination)"
   ]
  },
  {
   "cell_type": "code",
   "execution_count": null,
   "id": "beeddf95-c3d8-4b43-acc0-44aae1a80784",
   "metadata": {},
   "outputs": [],
   "source": []
  },
  {
   "cell_type": "code",
   "execution_count": null,
   "id": "76da976e-d8d3-4a3f-8bf2-e1d45bb926dc",
   "metadata": {},
   "outputs": [],
   "source": [
    "# 34) Write a program that calculates the mean, median, and mode of a list of numbers using list comprehension\n",
    "\n",
    "def calculate_statistics(numbers):\n",
    "    mean_value = sum(numbers) / len(numbers) if numbers else float('nan')\n",
    "\n",
    "    sorted_numbers = sorted(numbers)\n",
    "    mid = len(sorted_numbers) // 2\n",
    "    median_value = (sorted_numbers[mid] + sorted_numbers[mid - 1]) / 2 if len(sorted_numbers) % 2 == 0 else sorted_numbers[mid]\n",
    "\n",
    "    counts = {num: numbers.count(num) for num in numbers}\n",
    "    mode_value = max(counts, key=counts.get) if numbers else float('nan')\n",
    "\n",
    "    return mean_value, median_value, mode_value\n",
    "\n",
    "number_list = [1, 2, 2, 3, 4, 5, 5, 5, 6]\n",
    "mean_result, median_result, mode_result = calculate_statistics(number_list)\n",
    "\n",
    "print(\"Mean:\", mean_result)\n",
    "print(\"Median:\", median_result)\n",
    "print(\"Mode:\", mode_result)"
   ]
  },
  {
   "cell_type": "code",
   "execution_count": null,
   "id": "96909e01-6254-4386-9dc5-a985f578dbcb",
   "metadata": {},
   "outputs": [],
   "source": []
  },
  {
   "cell_type": "code",
   "execution_count": null,
   "id": "aa4d00ac-3c02-443a-ad42-c943e9bbff52",
   "metadata": {},
   "outputs": [],
   "source": [
    "# 35) Create a program that generates Pascal's triangle up to a specified number of rows using list comprehension.\n",
    "\n",
    "def generate_pascals_triangle(num_rows):\n",
    "    if num_rows <= 0:\n",
    "        return []\n",
    "\n",
    "    triangle = [[1] if i == 0 else [1, 1] if i == 1 else [] for i in range(num_rows)]\n",
    "\n",
    "    for i in range(2, num_rows):\n",
    "        triangle[i] = [1] + [triangle[i - 1][j - 1] + triangle[i - 1][j] for j in range(1, i)] + [1]\n",
    "\n",
    "    return triangle\n",
    "\n",
    "def print_pascals_triangle(triangle):\n",
    "    for row in triangle:\n",
    "        print(row)\n",
    "\n",
    "num_rows = 5\n",
    "pascals_triangle = generate_pascals_triangle(num_rows)\n",
    "\n",
    "print(\"Pascal's Triangle with\", num_rows, \"rows:\")\n",
    "print_pascals_triangle(pascals_triangle)"
   ]
  },
  {
   "cell_type": "code",
   "execution_count": null,
   "id": "1ce5a860-812f-4f29-ba53-64bf2814648f",
   "metadata": {},
   "outputs": [],
   "source": []
  },
  {
   "cell_type": "code",
   "execution_count": null,
   "id": "b891ba5a-8004-4e7c-9bf6-7c59eab35060",
   "metadata": {},
   "outputs": [],
   "source": [
    "# 36) Develop a program that calculates the sum of the digits of a factorial of numbers from 1 to 5 using list comprehension\n",
    "\n",
    "def factorial(n):\n",
    "    return 1 if n == 0 or n == 1 else n * factorial(n - 1)\n",
    "\n",
    "def sum_of_digits(n):\n",
    "    return sum(int(digit) for digit in str(n))\n",
    "\n",
    "factorials = [factorial(i) for i in range(1, 6)]\n",
    "sums_of_digits = [sum_of_digits(factorial) for factorial in factorials]\n",
    "\n",
    "for i, factorial_value in enumerate(factorials):\n",
    "    print(f\"The factorial of {i + 1} is {factorial_value} and the sum of its digits is {sums_of_digits[i]}\")"
   ]
  },
  {
   "cell_type": "code",
   "execution_count": null,
   "id": "b6795075-84b8-43bc-8df9-8b5ca5d73bef",
   "metadata": {},
   "outputs": [],
   "source": []
  },
  {
   "cell_type": "code",
   "execution_count": null,
   "id": "cc43d3ae-7e90-4990-b7c2-fa044d53223f",
   "metadata": {},
   "outputs": [],
   "source": [
    "# 37) Write a program that finds the longest word in a sentence using list comprehension\n",
    "\n",
    "def find_longest_word(sentence):\n",
    "    words = sentence.split()\n",
    "    longest_word = max(words, key=len) if words else None\n",
    "    return longest_word\n",
    "\n",
    "input_sentence = \"I have just joined course in pw skills\"\n",
    "longest_word_result = find_longest_word(input_sentence)\n",
    "\n",
    "print(\"Longest word in the sentence:\", longest_word_result)"
   ]
  },
  {
   "cell_type": "code",
   "execution_count": null,
   "id": "341ce96e-75bc-4f4e-93a7-7cdfe2ca5822",
   "metadata": {},
   "outputs": [],
   "source": []
  },
  {
   "cell_type": "code",
   "execution_count": null,
   "id": "d680bc30-b8b3-4694-ac3b-ad4aee6a1c31",
   "metadata": {},
   "outputs": [],
   "source": [
    "# 38) Create a program that filters a list of strings to include only those with more than three vowels using list comprehension\n",
    "\n",
    "def count_vowels(word):\n",
    "    vowels = \"aeiouAEIOU\"\n",
    "    return sum(1 for char in word if char in vowels)\n",
    "\n",
    "def filter_strings_with_more_than_three_vowels(string_list):\n",
    "    return [word for word in string_list if count_vowels(word) > 3]\n",
    "\n",
    "input_strings = [\"apple\", \"banana\", \"hello\", \"programming\", \"python\"]\n",
    "filtered_strings = filter_strings_with_more_than_three_vowels(input_strings)\n",
    "\n",
    "print(\"Strings with more than three vowels:\", filtered_strings)"
   ]
  },
  {
   "cell_type": "code",
   "execution_count": null,
   "id": "ee64d80f-e6a0-456f-989f-e6b27a6f28eb",
   "metadata": {},
   "outputs": [],
   "source": []
  },
  {
   "cell_type": "code",
   "execution_count": null,
   "id": "f9cbcddd-47bb-44b8-addc-353476d65319",
   "metadata": {},
   "outputs": [],
   "source": [
    "# 39) Develop a program that calculates the sum of the digits of numbers from 1 to 1000 using list comprehension\n",
    "\n",
    "def sum_of_digits(number):\n",
    "    return sum(int(digit) for digit in str(number))\n",
    "\n",
    "sums_of_digits = [sum_of_digits(num) for num in range(1, 1001)]\n",
    "\n",
    "total_sum = sum(sums_of_digits)\n",
    "print(f\"The sum of the digits for numbers from 1 to 1000 is: {total_sum}\")"
   ]
  },
  {
   "cell_type": "code",
   "execution_count": null,
   "id": "d695511b-752e-417f-a3bf-498af74e2a74",
   "metadata": {},
   "outputs": [],
   "source": []
  },
  {
   "cell_type": "code",
   "execution_count": null,
   "id": "d31cbdf3-61b7-4896-a3a3-3d3305fbf152",
   "metadata": {},
   "outputs": [],
   "source": [
    "# 40) Write a program that generates a list of prime palindromic numbers using list comprehension\n",
    "\n",
    "def is_prime(number):\n",
    "    if number < 2:\n",
    "        return False\n",
    "    for i in range(2, int(number**0.5) + 1):\n",
    "        if number % i == 0:\n",
    "            return False\n",
    "    return True\n",
    "\n",
    "def is_palindrome(number):\n",
    "    return str(number) == str(number)[::-1]\n",
    "\n",
    "limit = 1000\n",
    "prime_palindromic_numbers = [num for num in range(2, limit) if is_prime(num) and is_palindrome(num)]\n",
    "\n",
    "print(\"Prime palindromic numbers up to\", limit, \"are:\", prime_palindromic_numbers)"
   ]
  }
 ],
 "metadata": {
  "kernelspec": {
   "display_name": "Python 3 (ipykernel)",
   "language": "python",
   "name": "python3"
  },
  "language_info": {
   "codemirror_mode": {
    "name": "ipython",
    "version": 3
   },
   "file_extension": ".py",
   "mimetype": "text/x-python",
   "name": "python",
   "nbconvert_exporter": "python",
   "pygments_lexer": "ipython3",
   "version": "3.10.8"
  }
 },
 "nbformat": 4,
 "nbformat_minor": 5
}
